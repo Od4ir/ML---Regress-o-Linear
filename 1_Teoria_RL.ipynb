{
 "cells": [
  {
   "cell_type": "markdown",
   "metadata": {},
   "source": [
    "# Regressão Linear - Teoria"
   ]
  },
  {
   "cell_type": "markdown",
   "metadata": {},
   "source": [
    "A regressão linear é uma técnica de Machine Learning (Aprendizado de Máquina) - um dos campos de Inteligência Artificial - que consiste em tentar descobrir uma relação linear entre os dados utilizados no treinamento da máquina para poder prever/inferir algo sobre esses dados. \n",
    "\n",
    "Em outras palavras, é tentar encontrar uma relação de caráter linear entre as variáveis dadas como entrada e as variáveis dadas como saída. "
   ]
  },
  {
   "cell_type": "code",
   "execution_count": 1,
   "metadata": {},
   "outputs": [],
   "source": [
    "import torch"
   ]
  },
  {
   "cell_type": "markdown",
   "metadata": {},
   "source": [
    "### 🔢 Matemática do Modelo:"
   ]
  },
  {
   "cell_type": "markdown",
   "metadata": {},
   "source": [
    "#### 💾 Dados:"
   ]
  },
  {
   "cell_type": "markdown",
   "metadata": {},
   "source": [
    "\n",
    "A seguir estamos representando a matemática do 'modelo' em si. Vamos considerar que os dados são representados pela matriz $X \\in \\mathbb{R}^{n \\times m}$, ou seja, temos $n$ exemplos, amostras, e cada um desses exemplos têm $m$ atributos, qualidades. Ou seja, é como se cada linha representasse um dos itens.\n",
    "\n",
    "$$\n",
    "\\begin{pmatrix*}[r] \n",
    "x_{11} & \\dots & x_{1m} \\\\\n",
    "\\vdots & \\ddots & \\vdots \\\\\n",
    "x_{n1} & \\dots & x_{nm} \\\\\n",
    "\\end{pmatrix*} \n",
    "$$\n",
    "\n",
    "Para exemplificar, imagine que cada linha representa um local e que cada número da linha representa um atributo destes locais. Exemplo: a primeira coordenada pode indicar a temperatura média do local, a segunda a densidade populacional, a terceira o número de veículos e etc. "
   ]
  },
  {
   "cell_type": "markdown",
   "metadata": {},
   "source": [
    "#### ⚖️ Vetor de pesos & Bias:"
   ]
  },
  {
   "cell_type": "markdown",
   "metadata": {},
   "source": [
    "A ideia, continuando o exemplo anterior, poderia ser medir o custo médio de hotel desses lugares pautando-se nos atributos que temos disponíveis. Assim, colocamos os dados no modelo a fim de descobrir de conseguimos estabelecer uma relação linear entre os atributos e o resultado final (o valor médio do custo de hospedagem). \n",
    "\n",
    "Para isso, temos um **vetor de pesos** $w \\in \\mathbb{R}^{m}$, que estabelece \"o quão importante\", o quão 'pesado', é aquele atributo para o resultado final. Por isso o vetor tem 'm' elementos, um peso para cada um dos atributos. \n",
    "\n",
    "Também temos um outro vetor, o **bias**, $b \\in \\mathbb{R}^{n}$, que serve apenas de ajuste para o que os dados possam se ajustar melhor ao modelo, dado sua simplificação. "
   ]
  },
  {
   "cell_type": "markdown",
   "metadata": {},
   "source": [
    "#### ➕ A operação:\n",
    "\n"
   ]
  },
  {
   "cell_type": "markdown",
   "metadata": {},
   "source": [
    "\n",
    "O modelo supõe que podemos determinar os **rótulos** por uma relação linear do tipo:\n",
    "\n",
    "$$Ŷ = Xw + b$$\n",
    "$$\n",
    "\\begin{pmatrix*}[r] \n",
    "x_{11} & \\dots & x_{1m} \\\\\n",
    "\\vdots & \\ddots & \\vdots \\\\\n",
    "x_{n1} & \\dots & x_{nm} \\\\\n",
    "\\end{pmatrix*} \n",
    ".\n",
    "\\begin{pmatrix*}[r] \n",
    "w_1 \\\\\n",
    "\\vdots \\\\\n",
    "w_m \\\\\n",
    "\\end{pmatrix*} \n",
    "\n",
    "+ \n",
    "\\begin{pmatrix*}[r] \n",
    "B_1 \\\\\n",
    "\\vdots \\\\\n",
    "B_n \\\\\n",
    "\\end{pmatrix*} \n",
    "\n",
    "= \n",
    "\n",
    "\\begin{pmatrix*}[r] \n",
    "ŷ_1 \\\\\n",
    "\\vdots \\\\\n",
    "ŷ_n \\\\\n",
    "\\end{pmatrix*} \n",
    "$$\n",
    "\n",
    "Para a representação do cálculo do rótulo de cada exemplo (linha), temos:\n",
    "\n",
    "$$ŷ_i = w_1 . x_{i1} + ... + w_m . x_{im} + B = w^T.x + B$$"
   ]
  },
  {
   "cell_type": "markdown",
   "metadata": {},
   "source": []
  },
  {
   "cell_type": "markdown",
   "metadata": {},
   "source": [
    "### 📊 Funções do Modelo:"
   ]
  },
  {
   "cell_type": "markdown",
   "metadata": {},
   "source": [
    "#### ⏭️ Função Forward:"
   ]
  },
  {
   "cell_type": "markdown",
   "metadata": {},
   "source": [
    "A ideia da função **forward** é realizar o cálculo explicado anteriormente de previsão do modelo:\n",
    "\n",
    "$$Ŷ = Xw + b$$\n",
    "$$\n",
    "\\begin{pmatrix*}[r] \n",
    "x_{11} & \\dots & x_{1m} \\\\\n",
    "\\vdots & \\ddots & \\vdots \\\\\n",
    "x_{n1} & \\dots & x_{nm} \\\\\n",
    "\\end{pmatrix*} \n",
    ".\n",
    "\\begin{pmatrix*}[r] \n",
    "w_1 \\\\\n",
    "\\vdots \\\\\n",
    "w_m \\\\\n",
    "\\end{pmatrix*} \n",
    "\n",
    "+ \n",
    "\\begin{pmatrix*}[r] \n",
    "B_1 \\\\\n",
    "\\vdots \\\\\n",
    "B_n \\\\\n",
    "\\end{pmatrix*} \n",
    "\n",
    "= \n",
    "\n",
    "\\begin{pmatrix*}[r] \n",
    "ŷ_1 \\\\\n",
    "\\vdots \\\\\n",
    "ŷ_n \\\\\n",
    "\\end{pmatrix*} \n",
    "$$\n",
    "\n",
    "Veja um exemplo de código:"
   ]
  },
  {
   "cell_type": "code",
   "execution_count": 8,
   "metadata": {},
   "outputs": [],
   "source": [
    "# Considere W -> Vetor de Pesos;\n",
    "W = torch.tensor(2.0, requires_grad=True)\n",
    "\n",
    "# Considere b -> Vetor de bias;\n",
    "B = torch.tensor(-1.0, requires_grad=True)\n",
    "\n",
    "# Função Forward:\n",
    "def forward(x):\n",
    "    return W * x + B"
   ]
  },
  {
   "cell_type": "markdown",
   "metadata": {},
   "source": [
    "A função recebe uma entrada, multiplica ela pelo vetor de pesos e adiciona o bias, devolvendo um vetor de previsões/inferências de rótulos para aquela coletânea de dados. "
   ]
  },
  {
   "cell_type": "markdown",
   "metadata": {},
   "source": [
    "#### 📉 Função de Perda:"
   ]
  },
  {
   "cell_type": "markdown",
   "metadata": {},
   "source": [
    "A **função de perda** permite calcular o quanto a sua aproximação pela relação linear exposta anteriomente está se aproximando da realidade. Existem vários tipos de funções de perda, mas a ideia é sempre a mesma, que é comparar o que foi previsto/calculado utilizando o modelo adotado com a realidade dos dados que temos. \n",
    "\n",
    "Nessa implementação, iremos utilizar o **erro quadrático**:\n",
    "\n",
    "$$l^i(w, b) = \\frac{1}{2} (ŷ^i - y^i)²$$\n",
    "\n",
    "$$L(w, b) = \\frac{1}{n}\\sum_{i = 1}^{n}{l^i(w, B)}  = \\frac{1}{n}\\sum_{i = 1}^{n}{\\frac{1}{2}(w^Tx^i + b - y^i)^2}$$\n",
    "\n",
    "A primeira função, $l^i(w, b)$ representa o erro da previsão feita pelo modelo, $ŷ^i$, para o i-ésimo exemplo/linha dos dados que temos. Note que a função $l^i$ recebe $w$ e $b$ como parâmetros, pois o modelo faz inferências a partir desses parâmetros. \n",
    "\n",
    "O somatório abaixo representa a média dos erros de cada um dos *n* exemplos dos dados (lembrando, é claro, que os dados serão partidos em teste e treino). \n",
    "\n",
    "A função de perda é importantissíma, pois é ela que guia como iremos alterar o **vetor de pesos** e o **bias**, pois a ideia é tentar minimizar seu valor ao máximo. Veja a seguir a implementação do código:"
   ]
  },
  {
   "cell_type": "code",
   "execution_count": 9,
   "metadata": {},
   "outputs": [],
   "source": [
    "def loss_function(y, y_pred):\n",
    "    return ((y_pred - y) ** 2).mean()"
   ]
  },
  {
   "cell_type": "markdown",
   "metadata": {},
   "source": [
    "### ✨ O Treino e a Otimização:"
   ]
  },
  {
   "cell_type": "markdown",
   "metadata": {},
   "source": [
    "A partir disso, da função **forward** para calcular os rótulos a partir do vetor de pesos e do bias e da função de **perda** para qualificar o modelo, podemos ir atualizando o valor de pesos e treinando o modelo para tentar melhorar a relação linear que estamos tentando encontrar. "
   ]
  },
  {
   "cell_type": "markdown",
   "metadata": {},
   "source": [
    "#### 📈 Estratégia de Otimização:"
   ]
  },
  {
   "cell_type": "markdown",
   "metadata": {},
   "source": [
    "Ao passarmos pelos dados, podemos obtee o **gradiente** da função de perda considerando os dados utilizados e em respeito aos parâmetros $w$ e $b$. O gradiente aponta para a direção de crescimento do valor da função. Como desejamos reduzir o valor da função de perda, iremos atualizar os valores do $w$ e do $b$ na direção oposta do gradiente. \n",
    "\n",
    "Após esse cálculo, vamos atualizar os parâmetros para tentar reduzir o valor do erro calculado, esse é nosso **step**. Veja abaixo a representação matemática desse passo:\n",
    "\n",
    "$$ (w, b) = (w, b) - \\alpha . \\frac{1}{n_{\\mathbb{b}}} \\sum_{i \\in \\mathbb{b}}  ∂_{(w, b)} l^i(w,b)$$\n",
    "\n",
    "$$l^i(w, b) = (w^Tx^i+ b - y^i)^2$$\n",
    "\n",
    "Com $\\alpha$ sendo o **learning rate**, que representa a 'intensidade' da atualização dos parâmetros. \n",
    "\n",
    "Note que o somatório é um **tensor**, e as coordenadas desse tensor representam a direção em que a função de perda cresce considerando os dados utilizados. Por tal motivo, realizamos a subtração para ir na direção oposta, ou seja, na direção em que o valor está sendo diminuído. "
   ]
  },
  {
   "cell_type": "markdown",
   "metadata": {},
   "source": [
    "#### 🏋️‍♂️ Treinos"
   ]
  },
  {
   "cell_type": "markdown",
   "metadata": {},
   "source": [
    "Após codar tudo isso, basta treinar o modelo e ir atualizando o vetor de pesos e o bias até atingir um ponto que pareça ser aceitável, avaliando a precisão do modelo. \n",
    "\n",
    "Cada iteração completa pelos dados de treino é chamada de **Época**. Para treinar o modelo é necessário então escolher, de ínicio de forma arbitrátia/perceptiva o número de épocas e o learning rate. Interessante notar que em quanto menor for o *learning rate*, mais épocas serão necessárias para que o modelo convirja. E com um *learning rate* muito alto, há o risco de o modelo nem se quer convergir. \n",
    "\n",
    "É claro que esses problemas de convergimento do modelo envolvem vários outros componentes e relações, e podem surgir outros problemas que não convém explicar no momento, porém, no momento dos treinos é importante **ir testando** e analisando os resultados para poder escolher parâmetros bons para se iniciar o treinamento do modelo. "
   ]
  }
 ],
 "metadata": {
  "kernelspec": {
   "display_name": "Python 3",
   "language": "python",
   "name": "python3"
  },
  "language_info": {
   "codemirror_mode": {
    "name": "ipython",
    "version": 3
   },
   "file_extension": ".py",
   "mimetype": "text/x-python",
   "name": "python",
   "nbconvert_exporter": "python",
   "pygments_lexer": "ipython3",
   "version": "3.10.12"
  }
 },
 "nbformat": 4,
 "nbformat_minor": 2
}
